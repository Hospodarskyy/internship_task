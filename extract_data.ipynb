{
 "cells": [
  {
   "cell_type": "code",
   "execution_count": 1,
   "metadata": {},
   "outputs": [
    {
     "name": "stdout",
     "output_type": "stream",
     "text": [
      "hello there\n"
     ]
    }
   ],
   "source": [
    "print(f'hello there')"
   ]
  },
  {
   "cell_type": "code",
   "execution_count": 4,
   "metadata": {},
   "outputs": [],
   "source": [
    "import pandas as pd\n",
    "import numpy as np\n",
    "\n",
    "import matplotlib.pyplot as plt"
   ]
  },
  {
   "cell_type": "code",
   "execution_count": 2,
   "metadata": {},
   "outputs": [
    {
     "name": "stderr",
     "output_type": "stream",
     "text": [
      "/opt/anaconda3/envs/int_project/lib/python3.9/site-packages/tqdm/auto.py:21: TqdmWarning: IProgress not found. Please update jupyter and ipywidgets. See https://ipywidgets.readthedocs.io/en/stable/user_install.html\n",
      "  from .autonotebook import tqdm as notebook_tqdm\n",
      "Generating train split: 100%|██████████| 662907/662907 [00:00<00:00, 4360657.14 examples/s]\n",
      "Generating validation split: 100%|██████████| 662907/662907 [00:00<00:00, 5259875.83 examples/s]\n",
      "Generating test split: 100%|██████████| 662907/662907 [00:00<00:00, 5217434.55 examples/s]\n"
     ]
    }
   ],
   "source": [
    "from datasets import load_dataset\n",
    "\n",
    "dataset = load_dataset(\"vkovenko/cross_domain_uk_reviews\")"
   ]
  },
  {
   "cell_type": "code",
   "execution_count": 3,
   "metadata": {},
   "outputs": [],
   "source": [
    "train_data = dataset[\"train\"]\n",
    "val_data = dataset[\"validation\"]\n",
    "test_data = dataset[\"test\"]"
   ]
  },
  {
   "cell_type": "code",
   "execution_count": 7,
   "metadata": {},
   "outputs": [
    {
     "name": "stderr",
     "output_type": "stream",
     "text": [
      "/var/folders/67/9dfj9zw56bd48qqgrsrn6xj00000gn/T/ipykernel_12317/4207227997.py:1: DtypeWarning: Columns (5) have mixed types. Specify dtype option on import or set low_memory=False.\n",
      "  df_train = pd.read_csv('processed_data.csv')\n"
     ]
    },
    {
     "data": {
      "text/html": [
       "<div>\n",
       "<style scoped>\n",
       "    .dataframe tbody tr th:only-of-type {\n",
       "        vertical-align: middle;\n",
       "    }\n",
       "\n",
       "    .dataframe tbody tr th {\n",
       "        vertical-align: top;\n",
       "    }\n",
       "\n",
       "    .dataframe thead th {\n",
       "        text-align: right;\n",
       "    }\n",
       "</style>\n",
       "<table border=\"1\" class=\"dataframe\">\n",
       "  <thead>\n",
       "    <tr style=\"text-align: right;\">\n",
       "      <th></th>\n",
       "      <th>review</th>\n",
       "      <th>review_translate</th>\n",
       "      <th>rating</th>\n",
       "      <th>entity_name</th>\n",
       "      <th>dataset_name</th>\n",
       "      <th>title_translate</th>\n",
       "      <th>translated</th>\n",
       "      <th>review_translate_sentences</th>\n",
       "      <th>review_translate_sentences_tokens</th>\n",
       "      <th>review_translate_sentences_pos</th>\n",
       "      <th>review_translate_sentences_lemma</th>\n",
       "      <th>is_question</th>\n",
       "    </tr>\n",
       "  </thead>\n",
       "  <tbody>\n",
       "    <tr>\n",
       "      <th>0</th>\n",
       "      <td>Якісна пластмаса, переворот 360 градусвв</td>\n",
       "      <td>Якісна пластмаса , переворот 360 градусвв</td>\n",
       "      <td>5.0</td>\n",
       "      <td>screechers_wild_eu684204</td>\n",
       "      <td>rozetka</td>\n",
       "      <td>NaN</td>\n",
       "      <td>False</td>\n",
       "      <td>['Якісна пластмаса , переворот 360 градусвв']</td>\n",
       "      <td>[['Якісна', 'пластмаса', ',', 'переворот', '36...</td>\n",
       "      <td>[['ADJF', 'NOUN', 'PNCT', 'NOUN', 'NUMB', 'NOU...</td>\n",
       "      <td>[['якісний', 'пластмаса', ',', 'переворот', '3...</td>\n",
       "      <td>[False]</td>\n",
       "    </tr>\n",
       "    <tr>\n",
       "      <th>1</th>\n",
       "      <td>За такі гроші це самий топ</td>\n",
       "      <td>За такі гроші це самий топ</td>\n",
       "      <td>5.0</td>\n",
       "      <td>xiaomi_hsej03jy_black</td>\n",
       "      <td>rozetka</td>\n",
       "      <td>NaN</td>\n",
       "      <td>False</td>\n",
       "      <td>['За такі гроші це самий топ']</td>\n",
       "      <td>[['За', 'такі', 'гроші', 'це', 'самий', 'топ']]</td>\n",
       "      <td>[['ADVB', 'NPRO', 'NOUN', 'PRCL', 'NPRO', 'UNK...</td>\n",
       "      <td>[['за', 'такий', 'гріш', 'це', 'самий', 'топ']]</td>\n",
       "      <td>[False]</td>\n",
       "    </tr>\n",
       "    <tr>\n",
       "      <th>2</th>\n",
       "      <td>За такі гроші - просто супер! Рекомендую.</td>\n",
       "      <td>За такі гроші - просто супер ! Рекомендую .</td>\n",
       "      <td>5.0</td>\n",
       "      <td>esperanza_eza108</td>\n",
       "      <td>rozetka</td>\n",
       "      <td>NaN</td>\n",
       "      <td>False</td>\n",
       "      <td>['За такі гроші - просто супер !', 'Рекомендую...</td>\n",
       "      <td>[['За', 'такі', 'гроші', '-', 'просто', 'супер...</td>\n",
       "      <td>[['ADVB', 'NPRO', 'NOUN', 'PNCT', 'PRCL', 'NOU...</td>\n",
       "      <td>[['за', 'такий', 'гріш', '-', 'просто', 'супер...</td>\n",
       "      <td>[False, False]</td>\n",
       "    </tr>\n",
       "    <tr>\n",
       "      <th>3</th>\n",
       "      <td>Виконує свою роботу не погано.але що ви хотіли...</td>\n",
       "      <td>Виконує свою роботу не погано . але що ви хоті...</td>\n",
       "      <td>4.0</td>\n",
       "      <td>voin_v_80</td>\n",
       "      <td>rozetka</td>\n",
       "      <td>NaN</td>\n",
       "      <td>False</td>\n",
       "      <td>['Виконує свою роботу не погано .', 'але що ви...</td>\n",
       "      <td>[['Виконує', 'свою', 'роботу', 'не', 'погано',...</td>\n",
       "      <td>[['VERB', 'NPRO', 'NOUN', 'PRCL', 'NOUN', 'PNC...</td>\n",
       "      <td>[['виконувати', 'свій', 'робот', 'не', 'погана...</td>\n",
       "      <td>[False, True, True, False, False]</td>\n",
       "    </tr>\n",
       "    <tr>\n",
       "      <th>4</th>\n",
       "      <td>Купляв на стару сістему як основний під віндов...</td>\n",
       "      <td>Купляв на стару сістему як основний під віндов...</td>\n",
       "      <td>4.0</td>\n",
       "      <td>kingston_sa400s37_240g</td>\n",
       "      <td>rozetka</td>\n",
       "      <td>NaN</td>\n",
       "      <td>False</td>\n",
       "      <td>['Купляв на стару сістему як основний під вінд...</td>\n",
       "      <td>[['Купляв', 'на', 'стару', 'сістему', 'як', 'о...</td>\n",
       "      <td>[['VERB', 'INTJ', 'ADJF', 'NOUN', 'PRCL', 'ADJ...</td>\n",
       "      <td>[['купляти', 'на', 'старий', 'сістема', 'як', ...</td>\n",
       "      <td>[False, False]</td>\n",
       "    </tr>\n",
       "  </tbody>\n",
       "</table>\n",
       "</div>"
      ],
      "text/plain": [
       "                                              review  \\\n",
       "0          Якісна пластмаса, переворот 360 градусвв    \n",
       "1                        За такі гроші це самий топ    \n",
       "2         За такі гроші - просто супер! Рекомендую.    \n",
       "3  Виконує свою роботу не погано.але що ви хотіли...   \n",
       "4  Купляв на стару сістему як основний під віндов...   \n",
       "\n",
       "                                    review_translate  rating  \\\n",
       "0          Якісна пластмаса , переворот 360 градусвв     5.0   \n",
       "1                         За такі гроші це самий топ     5.0   \n",
       "2        За такі гроші - просто супер ! Рекомендую .     5.0   \n",
       "3  Виконує свою роботу не погано . але що ви хоті...     4.0   \n",
       "4  Купляв на стару сістему як основний під віндов...     4.0   \n",
       "\n",
       "                entity_name dataset_name title_translate  translated  \\\n",
       "0  screechers_wild_eu684204      rozetka             NaN       False   \n",
       "1     xiaomi_hsej03jy_black      rozetka             NaN       False   \n",
       "2          esperanza_eza108      rozetka             NaN       False   \n",
       "3                 voin_v_80      rozetka             NaN       False   \n",
       "4    kingston_sa400s37_240g      rozetka             NaN       False   \n",
       "\n",
       "                          review_translate_sentences  \\\n",
       "0      ['Якісна пластмаса , переворот 360 градусвв']   \n",
       "1                     ['За такі гроші це самий топ']   \n",
       "2  ['За такі гроші - просто супер !', 'Рекомендую...   \n",
       "3  ['Виконує свою роботу не погано .', 'але що ви...   \n",
       "4  ['Купляв на стару сістему як основний під вінд...   \n",
       "\n",
       "                   review_translate_sentences_tokens  \\\n",
       "0  [['Якісна', 'пластмаса', ',', 'переворот', '36...   \n",
       "1    [['За', 'такі', 'гроші', 'це', 'самий', 'топ']]   \n",
       "2  [['За', 'такі', 'гроші', '-', 'просто', 'супер...   \n",
       "3  [['Виконує', 'свою', 'роботу', 'не', 'погано',...   \n",
       "4  [['Купляв', 'на', 'стару', 'сістему', 'як', 'о...   \n",
       "\n",
       "                      review_translate_sentences_pos  \\\n",
       "0  [['ADJF', 'NOUN', 'PNCT', 'NOUN', 'NUMB', 'NOU...   \n",
       "1  [['ADVB', 'NPRO', 'NOUN', 'PRCL', 'NPRO', 'UNK...   \n",
       "2  [['ADVB', 'NPRO', 'NOUN', 'PNCT', 'PRCL', 'NOU...   \n",
       "3  [['VERB', 'NPRO', 'NOUN', 'PRCL', 'NOUN', 'PNC...   \n",
       "4  [['VERB', 'INTJ', 'ADJF', 'NOUN', 'PRCL', 'ADJ...   \n",
       "\n",
       "                    review_translate_sentences_lemma  \\\n",
       "0  [['якісний', 'пластмаса', ',', 'переворот', '3...   \n",
       "1    [['за', 'такий', 'гріш', 'це', 'самий', 'топ']]   \n",
       "2  [['за', 'такий', 'гріш', '-', 'просто', 'супер...   \n",
       "3  [['виконувати', 'свій', 'робот', 'не', 'погана...   \n",
       "4  [['купляти', 'на', 'старий', 'сістема', 'як', ...   \n",
       "\n",
       "                         is_question  \n",
       "0                            [False]  \n",
       "1                            [False]  \n",
       "2                     [False, False]  \n",
       "3  [False, True, True, False, False]  \n",
       "4                     [False, False]  "
      ]
     },
     "execution_count": 7,
     "metadata": {},
     "output_type": "execute_result"
    }
   ],
   "source": [
    "df_train = pd.read_csv('processed_data.csv')\n",
    "df_train.head()"
   ]
  },
  {
   "cell_type": "code",
   "execution_count": 8,
   "metadata": {},
   "outputs": [
    {
     "data": {
      "text/plain": [
       "dataset_name\n",
       "rozetka                            391784\n",
       "tripadvisor_restaurants_ukraine    191191\n",
       "tripadvisor_hotels_ukraine          79932\n",
       "Name: count, dtype: int64"
      ]
     },
     "execution_count": 8,
     "metadata": {},
     "output_type": "execute_result"
    }
   ],
   "source": [
    "df_train['dataset_name'].value_counts()"
   ]
  },
  {
   "cell_type": "code",
   "execution_count": 23,
   "metadata": {},
   "outputs": [],
   "source": [
    "df_rozetka = df_train[(df_train[\"dataset_name\"] == \"rozetka\") & (df_train[\"translated\"] == False)]"
   ]
  },
  {
   "cell_type": "code",
   "execution_count": 24,
   "metadata": {},
   "outputs": [
    {
     "name": "stderr",
     "output_type": "stream",
     "text": [
      "/var/folders/67/9dfj9zw56bd48qqgrsrn6xj00000gn/T/ipykernel_12317/2964835458.py:1: SettingWithCopyWarning: \n",
      "A value is trying to be set on a copy of a slice from a DataFrame.\n",
      "Try using .loc[row_indexer,col_indexer] = value instead\n",
      "\n",
      "See the caveats in the documentation: https://pandas.pydata.org/pandas-docs/stable/user_guide/indexing.html#returning-a-view-versus-a-copy\n",
      "  df_rozetka[\"sentiment\"] = df_rozetka[\"rating\"].apply(lambda x: \"Negative\" if x in [1, 2] else \"Neutral\" if x == 3 else \"Positive\")\n"
     ]
    }
   ],
   "source": [
    "df_rozetka[\"sentiment\"] = df_rozetka[\"rating\"].apply(lambda x: \"Negative\" if x in [1, 2] else \"Neutral\" if x == 3 else \"Positive\")"
   ]
  },
  {
   "cell_type": "code",
   "execution_count": 48,
   "metadata": {},
   "outputs": [
    {
     "data": {
      "text/html": [
       "<div>\n",
       "<style scoped>\n",
       "    .dataframe tbody tr th:only-of-type {\n",
       "        vertical-align: middle;\n",
       "    }\n",
       "\n",
       "    .dataframe tbody tr th {\n",
       "        vertical-align: top;\n",
       "    }\n",
       "\n",
       "    .dataframe thead th {\n",
       "        text-align: right;\n",
       "    }\n",
       "</style>\n",
       "<table border=\"1\" class=\"dataframe\">\n",
       "  <thead>\n",
       "    <tr style=\"text-align: right;\">\n",
       "      <th></th>\n",
       "      <th>review</th>\n",
       "      <th>review_translate</th>\n",
       "      <th>rating</th>\n",
       "      <th>entity_name</th>\n",
       "      <th>dataset_name</th>\n",
       "      <th>title_translate</th>\n",
       "      <th>translated</th>\n",
       "      <th>review_translate_sentences</th>\n",
       "      <th>review_translate_sentences_tokens</th>\n",
       "      <th>review_translate_sentences_pos</th>\n",
       "      <th>review_translate_sentences_lemma</th>\n",
       "      <th>is_question</th>\n",
       "      <th>sentiment</th>\n",
       "      <th>review_length</th>\n",
       "    </tr>\n",
       "  </thead>\n",
       "  <tbody>\n",
       "    <tr>\n",
       "      <th>0</th>\n",
       "      <td>Якісна пластмаса, переворот 360 градусвв</td>\n",
       "      <td>Якісна пластмаса , переворот 360 градусвв</td>\n",
       "      <td>5.0</td>\n",
       "      <td>screechers_wild_eu684204</td>\n",
       "      <td>rozetka</td>\n",
       "      <td>NaN</td>\n",
       "      <td>False</td>\n",
       "      <td>['Якісна пластмаса , переворот 360 градусвв']</td>\n",
       "      <td>[['Якісна', 'пластмаса', ',', 'переворот', '36...</td>\n",
       "      <td>[['ADJF', 'NOUN', 'PNCT', 'NOUN', 'NUMB', 'NOU...</td>\n",
       "      <td>[['якісний', 'пластмаса', ',', 'переворот', '3...</td>\n",
       "      <td>[False]</td>\n",
       "      <td>Positive</td>\n",
       "      <td>41</td>\n",
       "    </tr>\n",
       "    <tr>\n",
       "      <th>1</th>\n",
       "      <td>За такі гроші це самий топ</td>\n",
       "      <td>За такі гроші це самий топ</td>\n",
       "      <td>5.0</td>\n",
       "      <td>xiaomi_hsej03jy_black</td>\n",
       "      <td>rozetka</td>\n",
       "      <td>NaN</td>\n",
       "      <td>False</td>\n",
       "      <td>['За такі гроші це самий топ']</td>\n",
       "      <td>[['За', 'такі', 'гроші', 'це', 'самий', 'топ']]</td>\n",
       "      <td>[['ADVB', 'NPRO', 'NOUN', 'PRCL', 'NPRO', 'UNK...</td>\n",
       "      <td>[['за', 'такий', 'гріш', 'це', 'самий', 'топ']]</td>\n",
       "      <td>[False]</td>\n",
       "      <td>Positive</td>\n",
       "      <td>27</td>\n",
       "    </tr>\n",
       "    <tr>\n",
       "      <th>2</th>\n",
       "      <td>За такі гроші - просто супер! Рекомендую.</td>\n",
       "      <td>За такі гроші - просто супер ! Рекомендую .</td>\n",
       "      <td>5.0</td>\n",
       "      <td>esperanza_eza108</td>\n",
       "      <td>rozetka</td>\n",
       "      <td>NaN</td>\n",
       "      <td>False</td>\n",
       "      <td>['За такі гроші - просто супер !', 'Рекомендую...</td>\n",
       "      <td>[['За', 'такі', 'гроші', '-', 'просто', 'супер...</td>\n",
       "      <td>[['ADVB', 'NPRO', 'NOUN', 'PNCT', 'PRCL', 'NOU...</td>\n",
       "      <td>[['за', 'такий', 'гріш', '-', 'просто', 'супер...</td>\n",
       "      <td>[False, False]</td>\n",
       "      <td>Positive</td>\n",
       "      <td>42</td>\n",
       "    </tr>\n",
       "    <tr>\n",
       "      <th>3</th>\n",
       "      <td>Виконує свою роботу не погано.але що ви хотіли...</td>\n",
       "      <td>Виконує свою роботу не погано . але що ви хоті...</td>\n",
       "      <td>4.0</td>\n",
       "      <td>voin_v_80</td>\n",
       "      <td>rozetka</td>\n",
       "      <td>NaN</td>\n",
       "      <td>False</td>\n",
       "      <td>['Виконує свою роботу не погано .', 'але що ви...</td>\n",
       "      <td>[['Виконує', 'свою', 'роботу', 'не', 'погано',...</td>\n",
       "      <td>[['VERB', 'NPRO', 'NOUN', 'PRCL', 'NOUN', 'PNC...</td>\n",
       "      <td>[['виконувати', 'свій', 'робот', 'не', 'погана...</td>\n",
       "      <td>[False, True, True, False, False]</td>\n",
       "      <td>Positive</td>\n",
       "      <td>153</td>\n",
       "    </tr>\n",
       "    <tr>\n",
       "      <th>4</th>\n",
       "      <td>Купляв на стару сістему як основний під віндов...</td>\n",
       "      <td>Купляв на стару сістему як основний під віндов...</td>\n",
       "      <td>4.0</td>\n",
       "      <td>kingston_sa400s37_240g</td>\n",
       "      <td>rozetka</td>\n",
       "      <td>NaN</td>\n",
       "      <td>False</td>\n",
       "      <td>['Купляв на стару сістему як основний під вінд...</td>\n",
       "      <td>[['Купляв', 'на', 'стару', 'сістему', 'як', 'о...</td>\n",
       "      <td>[['VERB', 'INTJ', 'ADJF', 'NOUN', 'PRCL', 'ADJ...</td>\n",
       "      <td>[['купляти', 'на', 'старий', 'сістема', 'як', ...</td>\n",
       "      <td>[False, False]</td>\n",
       "      <td>Positive</td>\n",
       "      <td>191</td>\n",
       "    </tr>\n",
       "  </tbody>\n",
       "</table>\n",
       "</div>"
      ],
      "text/plain": [
       "                                              review  \\\n",
       "0          Якісна пластмаса, переворот 360 градусвв    \n",
       "1                        За такі гроші це самий топ    \n",
       "2         За такі гроші - просто супер! Рекомендую.    \n",
       "3  Виконує свою роботу не погано.але що ви хотіли...   \n",
       "4  Купляв на стару сістему як основний під віндов...   \n",
       "\n",
       "                                    review_translate  rating  \\\n",
       "0          Якісна пластмаса , переворот 360 градусвв     5.0   \n",
       "1                         За такі гроші це самий топ     5.0   \n",
       "2        За такі гроші - просто супер ! Рекомендую .     5.0   \n",
       "3  Виконує свою роботу не погано . але що ви хоті...     4.0   \n",
       "4  Купляв на стару сістему як основний під віндов...     4.0   \n",
       "\n",
       "                entity_name dataset_name title_translate  translated  \\\n",
       "0  screechers_wild_eu684204      rozetka             NaN       False   \n",
       "1     xiaomi_hsej03jy_black      rozetka             NaN       False   \n",
       "2          esperanza_eza108      rozetka             NaN       False   \n",
       "3                 voin_v_80      rozetka             NaN       False   \n",
       "4    kingston_sa400s37_240g      rozetka             NaN       False   \n",
       "\n",
       "                          review_translate_sentences  \\\n",
       "0      ['Якісна пластмаса , переворот 360 градусвв']   \n",
       "1                     ['За такі гроші це самий топ']   \n",
       "2  ['За такі гроші - просто супер !', 'Рекомендую...   \n",
       "3  ['Виконує свою роботу не погано .', 'але що ви...   \n",
       "4  ['Купляв на стару сістему як основний під вінд...   \n",
       "\n",
       "                   review_translate_sentences_tokens  \\\n",
       "0  [['Якісна', 'пластмаса', ',', 'переворот', '36...   \n",
       "1    [['За', 'такі', 'гроші', 'це', 'самий', 'топ']]   \n",
       "2  [['За', 'такі', 'гроші', '-', 'просто', 'супер...   \n",
       "3  [['Виконує', 'свою', 'роботу', 'не', 'погано',...   \n",
       "4  [['Купляв', 'на', 'стару', 'сістему', 'як', 'о...   \n",
       "\n",
       "                      review_translate_sentences_pos  \\\n",
       "0  [['ADJF', 'NOUN', 'PNCT', 'NOUN', 'NUMB', 'NOU...   \n",
       "1  [['ADVB', 'NPRO', 'NOUN', 'PRCL', 'NPRO', 'UNK...   \n",
       "2  [['ADVB', 'NPRO', 'NOUN', 'PNCT', 'PRCL', 'NOU...   \n",
       "3  [['VERB', 'NPRO', 'NOUN', 'PRCL', 'NOUN', 'PNC...   \n",
       "4  [['VERB', 'INTJ', 'ADJF', 'NOUN', 'PRCL', 'ADJ...   \n",
       "\n",
       "                    review_translate_sentences_lemma  \\\n",
       "0  [['якісний', 'пластмаса', ',', 'переворот', '3...   \n",
       "1    [['за', 'такий', 'гріш', 'це', 'самий', 'топ']]   \n",
       "2  [['за', 'такий', 'гріш', '-', 'просто', 'супер...   \n",
       "3  [['виконувати', 'свій', 'робот', 'не', 'погана...   \n",
       "4  [['купляти', 'на', 'старий', 'сістема', 'як', ...   \n",
       "\n",
       "                         is_question sentiment  review_length  \n",
       "0                            [False]  Positive             41  \n",
       "1                            [False]  Positive             27  \n",
       "2                     [False, False]  Positive             42  \n",
       "3  [False, True, True, False, False]  Positive            153  \n",
       "4                     [False, False]  Positive            191  "
      ]
     },
     "execution_count": 48,
     "metadata": {},
     "output_type": "execute_result"
    }
   ],
   "source": [
    "df_rozetka.head()"
   ]
  },
  {
   "cell_type": "code",
   "execution_count": 26,
   "metadata": {},
   "outputs": [
    {
     "data": {
      "text/plain": [
       "sentiment\n",
       "Positive    106329\n",
       "Negative     11625\n",
       "Neutral       6129\n",
       "Name: count, dtype: int64"
      ]
     },
     "execution_count": 26,
     "metadata": {},
     "output_type": "execute_result"
    }
   ],
   "source": [
    "df_rozetka['sentiment'].value_counts()"
   ]
  },
  {
   "cell_type": "code",
   "execution_count": 27,
   "metadata": {},
   "outputs": [
    {
     "data": {
      "text/plain": [
       "translated\n",
       "False    124083\n",
       "Name: count, dtype: int64"
      ]
     },
     "execution_count": 27,
     "metadata": {},
     "output_type": "execute_result"
    }
   ],
   "source": [
    "df_rozetka['translated'].value_counts()"
   ]
  },
  {
   "cell_type": "code",
   "execution_count": 22,
   "metadata": {},
   "outputs": [
    {
     "data": {
      "text/plain": [
       "is_question\n",
       "[False]                                                                                                                                                                                                                                                                                                                                                           146200\n",
       "[False, False]                                                                                                                                                                                                                                                                                                                                                     84059\n",
       "[False, False, False]                                                                                                                                                                                                                                                                                                                                              57594\n",
       "[False, False, False, False]                                                                                                                                                                                                                                                                                                                                       36287\n",
       "[False, False, False, False, False]                                                                                                                                                                                                                                                                                                                                22591\n",
       "                                                                                                                                                                                                                                                                                                                                                                   ...  \n",
       "[True, False, False, False, False, True, False]                                                                                                                                                                                                                                                                                                                        1\n",
       "[False, False, False, False, False, False, False, True, False, False, False, False, False, False, False, False, False, False, False]                                                                                                                                                                                                                                   1\n",
       "[False, False, False, False, False, False, False, False, False, False, False, True, False, False, False, False]                                                                                                                                                                                                                                                        1\n",
       "[False, False, False, False, False, False, False, False, False, False, False, False, False, False, False, False, False, False, False, False, False, False, False, False, False, False, False, False, False, False, False, False, False, False, False, False, False, False, False, False, False, False, False, False, False, False, False, False, False, False]         1\n",
       "[False, False, False, False, False, False, False, False, False, False, False, False, False, False, False, False, False, False, True, False, False, False, False, False, False, False]                                                                                                                                                                                  1\n",
       "Name: count, Length: 424, dtype: int64"
      ]
     },
     "execution_count": 22,
     "metadata": {},
     "output_type": "execute_result"
    }
   ],
   "source": [
    "df_rozetka['is_question'].value_counts()"
   ]
  },
  {
   "cell_type": "code",
   "execution_count": 49,
   "metadata": {},
   "outputs": [
    {
     "name": "stderr",
     "output_type": "stream",
     "text": [
      "/var/folders/67/9dfj9zw56bd48qqgrsrn6xj00000gn/T/ipykernel_12317/1861181604.py:5: SettingWithCopyWarning: \n",
      "A value is trying to be set on a copy of a slice from a DataFrame.\n",
      "Try using .loc[row_indexer,col_indexer] = value instead\n",
      "\n",
      "See the caveats in the documentation: https://pandas.pydata.org/pandas-docs/stable/user_guide/indexing.html#returning-a-view-versus-a-copy\n",
      "  df_rozetka[\"review_length\"] = df_rozetka[\"review\"].apply(lambda x: len(x.split()))\n"
     ]
    },
    {
     "data": {
      "image/png": "[encoded data removed]",
      "text/plain": [
       "<Figure size 1000x500 with 1 Axes>"
      ]
     },
     "metadata": {},
     "output_type": "display_data"
    }
   ],
   "source": [
    "import matplotlib.pyplot as plt\n",
    "import seaborn as sns\n",
    "\n",
    "# Compute review lengths\n",
    "df_rozetka[\"review_length\"] = df_rozetka[\"review\"].apply(lambda x: len(x.split()))\n",
    "\n",
    "# Plot the distribution\n",
    "plt.figure(figsize=(10, 5))\n",
    "sns.histplot(df_rozetka[\"review_length\"], bins=30, kde=True)\n",
    "\n",
    "plt.xlabel(\"Review Length\")\n",
    "plt.ylabel(\"Count\")\n",
    "plt.title(\"Distribution of Review Lengths\")\n",
    "plt.show()\n"
   ]
  },
  {
   "cell_type": "code",
   "execution_count": 54,
   "metadata": {},
   "outputs": [
    {
     "data": {
      "text/plain": [
       "count    124083.000000\n",
       "mean         21.230096\n",
       "std          28.902344\n",
       "min           1.000000\n",
       "25%           5.000000\n",
       "50%          12.000000\n",
       "75%          26.000000\n",
       "max         753.000000\n",
       "Name: review_length, dtype: float64"
      ]
     },
     "execution_count": 54,
     "metadata": {},
     "output_type": "execute_result"
    }
   ],
   "source": [
    "df_rozetka.head()\n",
    "df_rozetka['review_length'].describe()"
   ]
  },
  {
   "cell_type": "code",
   "execution_count": 44,
   "metadata": {},
   "outputs": [
    {
     "data": {
      "text/plain": [
       "('За такі гроші це самий топ ', 6)"
      ]
     },
     "execution_count": 44,
     "metadata": {},
     "output_type": "execute_result"
    }
   ],
   "source": [
    "df_rozetka[\"review\"][1], len(df_rozetka[\"review\"][1].split())"
   ]
  },
  {
   "cell_type": "code",
   "execution_count": 70,
   "metadata": {},
   "outputs": [
    {
     "data": {
      "text/html": [
       "<div>\n",
       "<style scoped>\n",
       "    .dataframe tbody tr th:only-of-type {\n",
       "        vertical-align: middle;\n",
       "    }\n",
       "\n",
       "    .dataframe tbody tr th {\n",
       "        vertical-align: top;\n",
       "    }\n",
       "\n",
       "    .dataframe thead th {\n",
       "        text-align: right;\n",
       "    }\n",
       "</style>\n",
       "<table border=\"1\" class=\"dataframe\">\n",
       "  <thead>\n",
       "    <tr style=\"text-align: right;\">\n",
       "      <th></th>\n",
       "      <th>rating</th>\n",
       "      <th>review_length</th>\n",
       "    </tr>\n",
       "  </thead>\n",
       "  <tbody>\n",
       "    <tr>\n",
       "      <th>count</th>\n",
       "      <td>29605.000000</td>\n",
       "      <td>29605.000000</td>\n",
       "    </tr>\n",
       "    <tr>\n",
       "      <th>mean</th>\n",
       "      <td>4.361966</td>\n",
       "      <td>21.210404</td>\n",
       "    </tr>\n",
       "    <tr>\n",
       "      <th>std</th>\n",
       "      <td>1.173175</td>\n",
       "      <td>4.512351</td>\n",
       "    </tr>\n",
       "    <tr>\n",
       "      <th>min</th>\n",
       "      <td>1.000000</td>\n",
       "      <td>15.000000</td>\n",
       "    </tr>\n",
       "    <tr>\n",
       "      <th>25%</th>\n",
       "      <td>4.000000</td>\n",
       "      <td>17.000000</td>\n",
       "    </tr>\n",
       "    <tr>\n",
       "      <th>50%</th>\n",
       "      <td>5.000000</td>\n",
       "      <td>21.000000</td>\n",
       "    </tr>\n",
       "    <tr>\n",
       "      <th>75%</th>\n",
       "      <td>5.000000</td>\n",
       "      <td>25.000000</td>\n",
       "    </tr>\n",
       "    <tr>\n",
       "      <th>max</th>\n",
       "      <td>5.000000</td>\n",
       "      <td>30.000000</td>\n",
       "    </tr>\n",
       "  </tbody>\n",
       "</table>\n",
       "</div>"
      ],
      "text/plain": [
       "             rating  review_length\n",
       "count  29605.000000   29605.000000\n",
       "mean       4.361966      21.210404\n",
       "std        1.173175       4.512351\n",
       "min        1.000000      15.000000\n",
       "25%        4.000000      17.000000\n",
       "50%        5.000000      21.000000\n",
       "75%        5.000000      25.000000\n",
       "max        5.000000      30.000000"
      ]
     },
     "execution_count": 70,
     "metadata": {},
     "output_type": "execute_result"
    }
   ],
   "source": [
    "df_rozetka_75 = df_rozetka[(df_rozetka[\"review_length\"] >= 15) & (df_rozetka[\"review_length\"] <= 30)]\n",
    "df_rozetka_75.describe()"
   ]
  },
  {
   "cell_type": "code",
   "execution_count": 72,
   "metadata": {},
   "outputs": [
    {
     "data": {
      "text/plain": [
       "(29605, 14)"
      ]
     },
     "execution_count": 72,
     "metadata": {},
     "output_type": "execute_result"
    }
   ],
   "source": [
    "df_rozetka_75.shape"
   ]
  },
  {
   "cell_type": "code",
   "execution_count": 73,
   "metadata": {},
   "outputs": [
    {
     "data": {
      "text/html": [
       "<div>\n",
       "<style scoped>\n",
       "    .dataframe tbody tr th:only-of-type {\n",
       "        vertical-align: middle;\n",
       "    }\n",
       "\n",
       "    .dataframe tbody tr th {\n",
       "        vertical-align: top;\n",
       "    }\n",
       "\n",
       "    .dataframe thead th {\n",
       "        text-align: right;\n",
       "    }\n",
       "</style>\n",
       "<table border=\"1\" class=\"dataframe\">\n",
       "  <thead>\n",
       "    <tr style=\"text-align: right;\">\n",
       "      <th></th>\n",
       "      <th>review</th>\n",
       "      <th>review_translate</th>\n",
       "      <th>rating</th>\n",
       "      <th>entity_name</th>\n",
       "      <th>dataset_name</th>\n",
       "      <th>title_translate</th>\n",
       "      <th>translated</th>\n",
       "      <th>review_translate_sentences</th>\n",
       "      <th>review_translate_sentences_tokens</th>\n",
       "      <th>review_translate_sentences_pos</th>\n",
       "      <th>review_translate_sentences_lemma</th>\n",
       "      <th>is_question</th>\n",
       "      <th>sentiment</th>\n",
       "      <th>review_length</th>\n",
       "    </tr>\n",
       "  </thead>\n",
       "  <tbody>\n",
       "    <tr>\n",
       "      <th>3</th>\n",
       "      <td>Виконує свою роботу не погано.але що ви хотіли...</td>\n",
       "      <td>Виконує свою роботу не погано . але що ви хоті...</td>\n",
       "      <td>4.0</td>\n",
       "      <td>voin_v_80</td>\n",
       "      <td>rozetka</td>\n",
       "      <td>NaN</td>\n",
       "      <td>False</td>\n",
       "      <td>['Виконує свою роботу не погано .', 'але що ви...</td>\n",
       "      <td>[['Виконує', 'свою', 'роботу', 'не', 'погано',...</td>\n",
       "      <td>[['VERB', 'NPRO', 'NOUN', 'PRCL', 'NOUN', 'PNC...</td>\n",
       "      <td>[['виконувати', 'свій', 'робот', 'не', 'погана...</td>\n",
       "      <td>[False, True, True, False, False]</td>\n",
       "      <td>Positive</td>\n",
       "      <td>24</td>\n",
       "    </tr>\n",
       "    <tr>\n",
       "      <th>8</th>\n",
       "      <td>Я придбав саме такий гель раніше і маючи велик...</td>\n",
       "      <td>Я придбав саме такий гель раніше і маючи велик...</td>\n",
       "      <td>5.0</td>\n",
       "      <td>losk-9000101535693</td>\n",
       "      <td>rozetka</td>\n",
       "      <td>NaN</td>\n",
       "      <td>False</td>\n",
       "      <td>['Я придбав саме такий гель раніше і маючи вел...</td>\n",
       "      <td>[['Я', 'придбав', 'саме', 'такий', 'гель', 'ра...</td>\n",
       "      <td>[['NPRO', 'VERB', 'PRCL', 'NPRO', 'NOUN', 'ADJ...</td>\n",
       "      <td>[['я', 'придбати', 'саме', 'такий', 'гель', 'р...</td>\n",
       "      <td>[False]</td>\n",
       "      <td>Positive</td>\n",
       "      <td>19</td>\n",
       "    </tr>\n",
       "    <tr>\n",
       "      <th>19</th>\n",
       "      <td>Займає мало місця на відміну від каркасного. Д...</td>\n",
       "      <td>Займає мало місця на відміну від каркасного . ...</td>\n",
       "      <td>5.0</td>\n",
       "      <td>232148839</td>\n",
       "      <td>rozetka</td>\n",
       "      <td>NaN</td>\n",
       "      <td>False</td>\n",
       "      <td>['Займає мало місця на відміну від каркасного ...</td>\n",
       "      <td>[['Займає', 'мало', 'місця', 'на', 'відміну', ...</td>\n",
       "      <td>[['VERB', 'ADVB', 'NOUN', 'INTJ', 'NOUN', 'PRE...</td>\n",
       "      <td>[['займати', 'мало', 'місце', 'на', 'відміна',...</td>\n",
       "      <td>[False, False, False]</td>\n",
       "      <td>Positive</td>\n",
       "      <td>27</td>\n",
       "    </tr>\n",
       "    <tr>\n",
       "      <th>20</th>\n",
       "      <td>дві неділі роботи і почав різати швидкість на ...</td>\n",
       "      <td>дві неділі роботи і почав різати швидкість на ...</td>\n",
       "      <td>1.0</td>\n",
       "      <td>3970496</td>\n",
       "      <td>rozetka</td>\n",
       "      <td>NaN</td>\n",
       "      <td>False</td>\n",
       "      <td>['дві неділі роботи і почав різати швидкість н...</td>\n",
       "      <td>[['дві', 'неділі', 'роботи', 'і', 'почав', 'рі...</td>\n",
       "      <td>[['NUMR', 'NOUN', 'NOUN', 'CONJ', 'VERB', 'VER...</td>\n",
       "      <td>[['два', 'неділя', 'робот', 'і', 'почати', 'рі...</td>\n",
       "      <td>[False, False]</td>\n",
       "      <td>Negative</td>\n",
       "      <td>19</td>\n",
       "    </tr>\n",
       "    <tr>\n",
       "      <th>21</th>\n",
       "      <td>За таку ціну ідеальний вибір. При роботі не пе...</td>\n",
       "      <td>За таку ціну ідеальний вибір . При роботі не п...</td>\n",
       "      <td>4.0</td>\n",
       "      <td>intertool_dt_2416</td>\n",
       "      <td>rozetka</td>\n",
       "      <td>NaN</td>\n",
       "      <td>False</td>\n",
       "      <td>['За таку ціну ідеальний вибір .', 'При роботі...</td>\n",
       "      <td>[['За', 'таку', 'ціну', 'ідеальний', 'вибір', ...</td>\n",
       "      <td>[['ADVB', 'NPRO', 'NOUN', 'ADJF', 'NOUN', 'PNC...</td>\n",
       "      <td>[['за', 'такий', 'ціна', 'ідеальний', 'вибір',...</td>\n",
       "      <td>[False, False, False]</td>\n",
       "      <td>Positive</td>\n",
       "      <td>28</td>\n",
       "    </tr>\n",
       "  </tbody>\n",
       "</table>\n",
       "</div>"
      ],
      "text/plain": [
       "                                               review  \\\n",
       "3   Виконує свою роботу не погано.але що ви хотіли...   \n",
       "8   Я придбав саме такий гель раніше і маючи велик...   \n",
       "19  Займає мало місця на відміну від каркасного. Д...   \n",
       "20  дві неділі роботи і почав різати швидкість на ...   \n",
       "21  За таку ціну ідеальний вибір. При роботі не пе...   \n",
       "\n",
       "                                     review_translate  rating  \\\n",
       "3   Виконує свою роботу не погано . але що ви хоті...     4.0   \n",
       "8   Я придбав саме такий гель раніше і маючи велик...     5.0   \n",
       "19  Займає мало місця на відміну від каркасного . ...     5.0   \n",
       "20  дві неділі роботи і почав різати швидкість на ...     1.0   \n",
       "21  За таку ціну ідеальний вибір . При роботі не п...     4.0   \n",
       "\n",
       "           entity_name dataset_name title_translate  translated  \\\n",
       "3            voin_v_80      rozetka             NaN       False   \n",
       "8   losk-9000101535693      rozetka             NaN       False   \n",
       "19           232148839      rozetka             NaN       False   \n",
       "20             3970496      rozetka             NaN       False   \n",
       "21   intertool_dt_2416      rozetka             NaN       False   \n",
       "\n",
       "                           review_translate_sentences  \\\n",
       "3   ['Виконує свою роботу не погано .', 'але що ви...   \n",
       "8   ['Я придбав саме такий гель раніше і маючи вел...   \n",
       "19  ['Займає мало місця на відміну від каркасного ...   \n",
       "20  ['дві неділі роботи і почав різати швидкість н...   \n",
       "21  ['За таку ціну ідеальний вибір .', 'При роботі...   \n",
       "\n",
       "                    review_translate_sentences_tokens  \\\n",
       "3   [['Виконує', 'свою', 'роботу', 'не', 'погано',...   \n",
       "8   [['Я', 'придбав', 'саме', 'такий', 'гель', 'ра...   \n",
       "19  [['Займає', 'мало', 'місця', 'на', 'відміну', ...   \n",
       "20  [['дві', 'неділі', 'роботи', 'і', 'почав', 'рі...   \n",
       "21  [['За', 'таку', 'ціну', 'ідеальний', 'вибір', ...   \n",
       "\n",
       "                       review_translate_sentences_pos  \\\n",
       "3   [['VERB', 'NPRO', 'NOUN', 'PRCL', 'NOUN', 'PNC...   \n",
       "8   [['NPRO', 'VERB', 'PRCL', 'NPRO', 'NOUN', 'ADJ...   \n",
       "19  [['VERB', 'ADVB', 'NOUN', 'INTJ', 'NOUN', 'PRE...   \n",
       "20  [['NUMR', 'NOUN', 'NOUN', 'CONJ', 'VERB', 'VER...   \n",
       "21  [['ADVB', 'NPRO', 'NOUN', 'ADJF', 'NOUN', 'PNC...   \n",
       "\n",
       "                     review_translate_sentences_lemma  \\\n",
       "3   [['виконувати', 'свій', 'робот', 'не', 'погана...   \n",
       "8   [['я', 'придбати', 'саме', 'такий', 'гель', 'р...   \n",
       "19  [['займати', 'мало', 'місце', 'на', 'відміна',...   \n",
       "20  [['два', 'неділя', 'робот', 'і', 'почати', 'рі...   \n",
       "21  [['за', 'такий', 'ціна', 'ідеальний', 'вибір',...   \n",
       "\n",
       "                          is_question sentiment  review_length  \n",
       "3   [False, True, True, False, False]  Positive             24  \n",
       "8                             [False]  Positive             19  \n",
       "19              [False, False, False]  Positive             27  \n",
       "20                     [False, False]  Negative             19  \n",
       "21              [False, False, False]  Positive             28  "
      ]
     },
     "execution_count": 73,
     "metadata": {},
     "output_type": "execute_result"
    }
   ],
   "source": [
    "df_rozetka_75.head()"
   ]
  },
  {
   "cell_type": "code",
   "execution_count": 74,
   "metadata": {},
   "outputs": [
    {
     "data": {
      "text/plain": [
       "sentiment\n",
       "Positive    24675\n",
       "Negative     3222\n",
       "Neutral      1708\n",
       "Name: count, dtype: int64"
      ]
     },
     "execution_count": 74,
     "metadata": {},
     "output_type": "execute_result"
    }
   ],
   "source": [
    "df_rozetka_75['sentiment'].value_counts()"
   ]
  },
  {
   "cell_type": "code",
   "execution_count": 75,
   "metadata": {},
   "outputs": [
    {
     "name": "stderr",
     "output_type": "stream",
     "text": [
      "/var/folders/67/9dfj9zw56bd48qqgrsrn6xj00000gn/T/ipykernel_12317/4041936451.py:2: UserWarning: Boolean Series key will be reindexed to match DataFrame index.\n",
      "  df_negative = df_rozetka_75[df_rozetka[\"sentiment\"] == \"Negative\"]\n",
      "/var/folders/67/9dfj9zw56bd48qqgrsrn6xj00000gn/T/ipykernel_12317/4041936451.py:3: UserWarning: Boolean Series key will be reindexed to match DataFrame index.\n",
      "  df_neutral = df_rozetka_75[df_rozetka[\"sentiment\"] == \"Neutral\"]\n",
      "/var/folders/67/9dfj9zw56bd48qqgrsrn6xj00000gn/T/ipykernel_12317/4041936451.py:4: UserWarning: Boolean Series key will be reindexed to match DataFrame index.\n",
      "  df_positive = df_rozetka_75[df_rozetka[\"sentiment\"] == \"Positive\"]\n"
     ]
    }
   ],
   "source": [
    "# Separate reviews by sentiment\n",
    "df_negative = df_rozetka_75[df_rozetka[\"sentiment\"] == \"Negative\"]\n",
    "df_neutral = df_rozetka_75[df_rozetka[\"sentiment\"] == \"Neutral\"]\n",
    "df_positive = df_rozetka_75[df_rozetka[\"sentiment\"] == \"Positive\"]\n",
    "\n",
    "samples_per_group = 70\n",
    "\n",
    "# Sample an equal number of examples from each group\n",
    "df_negative_sample = df_negative.sample(samples_per_group, random_state=42)\n",
    "df_neutral_sample = df_neutral.sample(samples_per_group, random_state=42)\n",
    "df_positive_sample = df_positive.sample(samples_per_group, random_state=42)\n",
    "\n",
    "# Concatenate the samples into one DataFrame\n",
    "final_df = pd.concat([df_negative_sample, df_neutral_sample, df_positive_sample])\n",
    "\n",
    "# Shuffle the final dataset to mix the sentiment groups\n",
    "final_df = final_df.sample(frac=1, random_state=42).reset_index(drop=True)"
   ]
  },
  {
   "cell_type": "code",
   "execution_count": 82,
   "metadata": {},
   "outputs": [],
   "source": [
    "final_df = final_df.drop(['review_translate', 'title_translate', 'translated'], axis=1)"
   ]
  },
  {
   "cell_type": "code",
   "execution_count": 83,
   "metadata": {},
   "outputs": [
    {
     "data": {
      "text/html": [
       "<div>\n",
       "<style scoped>\n",
       "    .dataframe tbody tr th:only-of-type {\n",
       "        vertical-align: middle;\n",
       "    }\n",
       "\n",
       "    .dataframe tbody tr th {\n",
       "        vertical-align: top;\n",
       "    }\n",
       "\n",
       "    .dataframe thead th {\n",
       "        text-align: right;\n",
       "    }\n",
       "</style>\n",
       "<table border=\"1\" class=\"dataframe\">\n",
       "  <thead>\n",
       "    <tr style=\"text-align: right;\">\n",
       "      <th></th>\n",
       "      <th>review</th>\n",
       "      <th>rating</th>\n",
       "      <th>entity_name</th>\n",
       "      <th>dataset_name</th>\n",
       "      <th>review_translate_sentences</th>\n",
       "      <th>review_translate_sentences_tokens</th>\n",
       "      <th>review_translate_sentences_pos</th>\n",
       "      <th>review_translate_sentences_lemma</th>\n",
       "      <th>is_question</th>\n",
       "      <th>sentiment</th>\n",
       "      <th>review_length</th>\n",
       "    </tr>\n",
       "  </thead>\n",
       "  <tbody>\n",
       "    <tr>\n",
       "      <th>0</th>\n",
       "      <td>Звертаюся до Розетки чи до представника бренду...</td>\n",
       "      <td>1.0</td>\n",
       "      <td>vitals_53951</td>\n",
       "      <td>rozetka</td>\n",
       "      <td>['Звертаюся до Розетки чи до представника брен...</td>\n",
       "      <td>[['Звертаюся', 'до', 'Розетки', 'чи', 'до', 'п...</td>\n",
       "      <td>[['VERB', 'NOUN', 'NOUN', 'PRCL', 'NOUN', 'NOU...</td>\n",
       "      <td>[['звертатися', 'до', 'розетка', 'чи', 'до', '...</td>\n",
       "      <td>[False, False, False]</td>\n",
       "      <td>Negative</td>\n",
       "      <td>23</td>\n",
       "    </tr>\n",
       "    <tr>\n",
       "      <th>1</th>\n",
       "      <td>Купила собі цей чудо робот-пилосос. Задоволена...</td>\n",
       "      <td>5.0</td>\n",
       "      <td>dyxon-megavac-1200-white</td>\n",
       "      <td>rozetka</td>\n",
       "      <td>['Купила собі цей чудо робот - пилосос .', 'За...</td>\n",
       "      <td>[['Купила', 'собі', 'цей', 'чудо', 'робот', '-...</td>\n",
       "      <td>[['VERB', 'NOUN', 'NPRO', 'NOUN', 'NOUN', 'PNC...</td>\n",
       "      <td>[['купити', 'соб', 'цей', 'чудо', 'робот', '-'...</td>\n",
       "      <td>[False, False, False, False]</td>\n",
       "      <td>Positive</td>\n",
       "      <td>17</td>\n",
       "    </tr>\n",
       "    <tr>\n",
       "      <th>2</th>\n",
       "      <td>Одноразовий. Дитя папу раз його торкнувся і вс...</td>\n",
       "      <td>3.0</td>\n",
       "      <td>310853703</td>\n",
       "      <td>rozetka</td>\n",
       "      <td>['Одноразовий .', 'Дитя папу раз його торкнувс...</td>\n",
       "      <td>[['Одноразовий', '.'], ['Дитя', 'папу', 'раз',...</td>\n",
       "      <td>[['ADJF', 'PNCT'], ['NOUN', 'NOUN', 'NOUN', 'N...</td>\n",
       "      <td>[['одноразовий', '.'], ['дитя', 'папа', 'раз',...</td>\n",
       "      <td>[False, False]</td>\n",
       "      <td>Neutral</td>\n",
       "      <td>21</td>\n",
       "    </tr>\n",
       "    <tr>\n",
       "      <th>3</th>\n",
       "      <td>Дешеві пігулки. Якщо ніякого ефекту не буде - ...</td>\n",
       "      <td>4.0</td>\n",
       "      <td>enthermeal_ad3znc60em089</td>\n",
       "      <td>rozetka</td>\n",
       "      <td>['Дешеві пігулки .', 'Якщо ніякого ефекту не б...</td>\n",
       "      <td>[['Дешеві', 'пігулки', '.'], ['Якщо', 'ніякого...</td>\n",
       "      <td>[['ADJF', 'NOUN', 'PNCT'], ['CONJ', 'NPRO', 'N...</td>\n",
       "      <td>[['дешевий', 'пігулка', '.'], ['якщо', 'ніякий...</td>\n",
       "      <td>[False, False, False, False]</td>\n",
       "      <td>Positive</td>\n",
       "      <td>24</td>\n",
       "    </tr>\n",
       "    <tr>\n",
       "      <th>4</th>\n",
       "      <td>Отримала сьогодні тискомір не той що замовила?...</td>\n",
       "      <td>1.0</td>\n",
       "      <td>251959466</td>\n",
       "      <td>rozetka</td>\n",
       "      <td>['Отримала сьогодні тискомір не той що замовил...</td>\n",
       "      <td>[['Отримала', 'сьогодні', 'тискомір', 'не', 'т...</td>\n",
       "      <td>[['VERB', 'ADVB', 'NOUN', 'PRCL', 'NPRO', 'CON...</td>\n",
       "      <td>[['отримати', 'сьогодні', 'тискомір', 'не', 'т...</td>\n",
       "      <td>[False, False, False, False]</td>\n",
       "      <td>Negative</td>\n",
       "      <td>26</td>\n",
       "    </tr>\n",
       "  </tbody>\n",
       "</table>\n",
       "</div>"
      ],
      "text/plain": [
       "                                              review  rating  \\\n",
       "0  Звертаюся до Розетки чи до представника бренду...     1.0   \n",
       "1  Купила собі цей чудо робот-пилосос. Задоволена...     5.0   \n",
       "2  Одноразовий. Дитя папу раз його торкнувся і вс...     3.0   \n",
       "3  Дешеві пігулки. Якщо ніякого ефекту не буде - ...     4.0   \n",
       "4  Отримала сьогодні тискомір не той що замовила?...     1.0   \n",
       "\n",
       "                entity_name dataset_name  \\\n",
       "0              vitals_53951      rozetka   \n",
       "1  dyxon-megavac-1200-white      rozetka   \n",
       "2                 310853703      rozetka   \n",
       "3  enthermeal_ad3znc60em089      rozetka   \n",
       "4                 251959466      rozetka   \n",
       "\n",
       "                          review_translate_sentences  \\\n",
       "0  ['Звертаюся до Розетки чи до представника брен...   \n",
       "1  ['Купила собі цей чудо робот - пилосос .', 'За...   \n",
       "2  ['Одноразовий .', 'Дитя папу раз його торкнувс...   \n",
       "3  ['Дешеві пігулки .', 'Якщо ніякого ефекту не б...   \n",
       "4  ['Отримала сьогодні тискомір не той що замовил...   \n",
       "\n",
       "                   review_translate_sentences_tokens  \\\n",
       "0  [['Звертаюся', 'до', 'Розетки', 'чи', 'до', 'п...   \n",
       "1  [['Купила', 'собі', 'цей', 'чудо', 'робот', '-...   \n",
       "2  [['Одноразовий', '.'], ['Дитя', 'папу', 'раз',...   \n",
       "3  [['Дешеві', 'пігулки', '.'], ['Якщо', 'ніякого...   \n",
       "4  [['Отримала', 'сьогодні', 'тискомір', 'не', 'т...   \n",
       "\n",
       "                      review_translate_sentences_pos  \\\n",
       "0  [['VERB', 'NOUN', 'NOUN', 'PRCL', 'NOUN', 'NOU...   \n",
       "1  [['VERB', 'NOUN', 'NPRO', 'NOUN', 'NOUN', 'PNC...   \n",
       "2  [['ADJF', 'PNCT'], ['NOUN', 'NOUN', 'NOUN', 'N...   \n",
       "3  [['ADJF', 'NOUN', 'PNCT'], ['CONJ', 'NPRO', 'N...   \n",
       "4  [['VERB', 'ADVB', 'NOUN', 'PRCL', 'NPRO', 'CON...   \n",
       "\n",
       "                    review_translate_sentences_lemma  \\\n",
       "0  [['звертатися', 'до', 'розетка', 'чи', 'до', '...   \n",
       "1  [['купити', 'соб', 'цей', 'чудо', 'робот', '-'...   \n",
       "2  [['одноразовий', '.'], ['дитя', 'папа', 'раз',...   \n",
       "3  [['дешевий', 'пігулка', '.'], ['якщо', 'ніякий...   \n",
       "4  [['отримати', 'сьогодні', 'тискомір', 'не', 'т...   \n",
       "\n",
       "                    is_question sentiment  review_length  \n",
       "0         [False, False, False]  Negative             23  \n",
       "1  [False, False, False, False]  Positive             17  \n",
       "2                [False, False]   Neutral             21  \n",
       "3  [False, False, False, False]  Positive             24  \n",
       "4  [False, False, False, False]  Negative             26  "
      ]
     },
     "execution_count": 83,
     "metadata": {},
     "output_type": "execute_result"
    }
   ],
   "source": [
    "final_df.head()"
   ]
  },
  {
   "cell_type": "code",
   "execution_count": 84,
   "metadata": {},
   "outputs": [
    {
     "data": {
      "text/plain": [
       "sentiment\n",
       "Negative    70\n",
       "Positive    70\n",
       "Neutral     70\n",
       "Name: count, dtype: int64"
      ]
     },
     "execution_count": 84,
     "metadata": {},
     "output_type": "execute_result"
    }
   ],
   "source": [
    "final_df['sentiment'].value_counts()"
   ]
  },
  {
   "cell_type": "code",
   "execution_count": 85,
   "metadata": {},
   "outputs": [
    {
     "data": {
      "text/plain": [
       "count    210.000000\n",
       "mean      21.795238\n",
       "std        4.621665\n",
       "min       15.000000\n",
       "25%       17.000000\n",
       "50%       21.000000\n",
       "75%       26.000000\n",
       "max       30.000000\n",
       "Name: review_length, dtype: float64"
      ]
     },
     "execution_count": 85,
     "metadata": {},
     "output_type": "execute_result"
    }
   ],
   "source": [
    "final_df['review_length'].describe()"
   ]
  },
  {
   "cell_type": "code",
   "execution_count": 86,
   "metadata": {},
   "outputs": [
    {
     "data": {
      "text/plain": [
       "(210, 11)"
      ]
     },
     "execution_count": 86,
     "metadata": {},
     "output_type": "execute_result"
    }
   ],
   "source": [
    "final_df.shape"
   ]
  },
  {
   "cell_type": "code",
   "execution_count": 87,
   "metadata": {},
   "outputs": [],
   "source": [
    "final_df.to_csv('balanced_reviews.csv', index=True)"
   ]
  },
  {
   "cell_type": "code",
   "execution_count": null,
   "metadata": {},
   "outputs": [],
   "source": []
  }
 ],
 "metadata": {
  "kernelspec": {
   "display_name": "int_project",
   "language": "python",
   "name": "python3"
  },
  "language_info": {
   "codemirror_mode": {
    "name": "ipython",
    "version": 3
   },
   "file_extension": ".py",
   "mimetype": "text/x-python",
   "name": "python",
   "nbconvert_exporter": "python",
   "pygments_lexer": "ipython3",
   "version": "3.9.21"
  }
 },
 "nbformat": 4,
 "nbformat_minor": 2
}
